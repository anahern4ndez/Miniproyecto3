{
 "cells": [
  {
   "cell_type": "markdown",
   "metadata": {},
   "source": [
    "# MiniProyecto Parte 3\n",
    "Ana Lucía Hernández - 17138\n",
    "María Fernanda López - 17160"
   ]
  },
  {
   "cell_type": "code",
   "execution_count": 2,
   "metadata": {},
   "outputs": [],
   "source": [
    "import numpy as np"
   ]
  },
  {
   "cell_type": "code",
   "execution_count": 3,
   "metadata": {},
   "outputs": [],
   "source": [
    "class Server():\n",
    "    def __init__(self, potencia, max_sol = 2400, cpus = 1):\n",
    "        # potencia es la cantidad de solicitudes por segundo que puede tomar \n",
    "        # max_sol es la cantidad máxima de solicitudes que se recibirán * por minuto * (lambda_max)\n",
    "        # cpus es la cantidad de servidores que tiene el sistema \n",
    "        self.potencia = potencia\n",
    "        self.lambda_max = max_sol / 60 # se convierte solicitudes/min a solicitudes/seg\n",
    "        self.cpus = cpus\n",
    "    \n",
    "    def next_ts(self, t): # los eventos serán solamente procesos de poisson no homogeneos, así que se programa solo para eso \n",
    "        while True:\n",
    "            t = t - (np.log(np.random.uniform())/self.lambda_max)\n",
    "            if np.random.uniform() <= np.random.poisson(t)/self.lambda_max:\n",
    "                return t\n",
    "\n",
    "    def simulate(self):\n",
    "        # se asumirá que t0 = 0 y T = t0 + 60min = t0+ 3600seg\n",
    "        t = 0 \n",
    "        n = 0 # estado del sistema, numero de solicitudes en el sistema al tiempo t \n",
    "        T = 3600 # max tiempo de duracion es 1hr\n",
    "\n",
    "        # contadores\n",
    "        Na = 0 # llegadas \n",
    "        Nd = 0 # salidas\n",
    "\n",
    "        A = [] # tiempos de llegada de la i-esima solicitud, ids son indices\n",
    "        D = [] # tiempos de salida de la i-esima solicitud, ids son indices\n",
    "        NT = [] # Tiempos de cada cliente en espera\n",
    "\n",
    "        # eventos\n",
    "        ta = self.next_ts(t) # tiempo de la proxima llegada\n",
    "        td = np.zeros(self.cpus) + np.infty # set de tiempos de salida de cada servidor a infty, hay un td por cada server disponible\n",
    "        busy_time = np.zeros(self.cpus) # tiempo que cada server estuvo ocupado\n",
    "        served_by = [] # se guardan cuales solicitudes fueron atendidas por cuales server\n",
    "        servers = np.zeros(self.cpus) # para llevar registro de quien esta ocupado y quien no\n",
    "\n",
    "        while t < T: # el tiempo en el que estamos aún no excede el tiempo de cierre\n",
    "            # CASO 1 \n",
    "            # si el proximo tiempo de llegada es antes del proximo tiempo de salida, se encola\n",
    "            if ta <= min(td):\n",
    "                t = ta # nos posicionamos en el próximo tiempo de llegada\n",
    "                Na += 1 # Contamos una llegada mas\n",
    "                ta = self.next_ts(t) # calculamos el siguiente tiempo de llegada\n",
    "                A.append(t) # guardamos el tiempo de la Na-esima llegada\n",
    "                if n < self.cpus: # si hay menos clientes dentro que servidores, se le asigna uno que esté disponible\n",
    "                    for i in range(self.cpus):\n",
    "                        if servers[i] == 0: # Si el servidor esta disponible\n",
    "                            NT = np.append(NT,t - A[len(A)-1])\n",
    "                            # served_by.append(i) # se agrega el server que atendio el # de solicitud\n",
    "                            td[i] = t + np.random.exponential(1/(self.potencia*60)) # calculamos su tiempo de salida y se lo asignamos a un servidor\n",
    "                            busy_time[i] += td[i]-t # Calculamos el tiempo que va a estar en el servidor\n",
    "                            servers[i] = 1 # seteamos el server como ocupado \n",
    "                            break;\n",
    "                n += 1 # Contamos al nuevo cliente en el sistema\n",
    "            \n",
    "            # CASO 2\n",
    "            # si el proximo tiempo de llegada es después del próximo tiempo de salida, se atiende ya que\n",
    "            # se tiene la disponibilidad\n",
    "            else:\n",
    "                ti = np.argmin(td) # Escogemos al servidor que se desocupa primero\n",
    "                t = td[ti] # avanzamos el tiempo al tiempo en que se desocupa\n",
    "                served_by.append(ti) # se agrega el server que atendio el # de solicitud\n",
    "                D.append(t)\n",
    "                if n <= self.cpus: # Si hay menos o igual clientes que servidores\n",
    "                    servers[ti] = 0 # liberamos el server\n",
    "                    td[ti] = np.infty # seteamos el td a infty para indicar que aun no tiene otra solicitud\n",
    "                else: # Si todavia hay mas clientes por atender\n",
    "                    served_by.append(ti) # se agrega el server que atendio el # de solicitud\n",
    "                    NT = np.append(NT,t - A[len(A)-1])\n",
    "                    td[ti] = t + np.random.exponential(1/(self.potencia*60)) # Calculamos el tiempo de salida\n",
    "                    busy_time[ti] += td[ti]-t # Calculamos el tiempo que va a estar en el servidor\n",
    "                n -= 1 # Descontamos al cliente atendido del sistema\n",
    "        # se calcula cuantas solicitudes atendio cada servidor \n",
    "        num_sol = np.zeros(self.cpus)\n",
    "        for i in range(len(served_by)):\n",
    "            num_sol[served_by[i]] += 1\n",
    "\n",
    "        return { \n",
    "            \"en_cola\": NT, \"num_sol\": num_sol, \"td\": td, \"A\": A, \"D\": D, \"busy_time\": busy_time\n",
    "        }"
   ]
  },
  {
   "cell_type": "markdown",
   "metadata": {},
   "source": [
    "## Task 1 - Gorilla Megacomputing, 2400 max solicitudes"
   ]
  },
  {
   "cell_type": "code",
   "execution_count": 4,
   "metadata": {
    "tags": []
   },
   "outputs": [],
   "source": [
    "gorilla = Server(potencia = 100)\n",
    "resultados = gorilla.simulate()"
   ]
  },
  {
   "cell_type": "markdown",
   "metadata": {},
   "source": [
    "### ¿Cuántas solicitudes atendió cada servidor?\n",
    "\n",
    "\n",
    "\n"
   ]
  },
  {
   "cell_type": "code",
   "execution_count": 5,
   "metadata": {
    "tags": []
   },
   "outputs": [
    {
     "output_type": "stream",
     "name": "stdout",
     "text": "\tSolicitudes atendidas por servidor:  143451.0\n"
    }
   ],
   "source": [
    "print(\"\\tSolicitudes atendidas por servidor: \",resultados[\"num_sol\"][0])"
   ]
  },
  {
   "cell_type": "markdown",
   "metadata": {},
   "source": [
    "### ¿Cuánto tiempo estuvo cada servidor ocupado?\n",
    "\n",
    "Ya que en este caso se tuvo un único servidor, el resultado también es único"
   ]
  },
  {
   "cell_type": "code",
   "execution_count": 6,
   "metadata": {
    "tags": []
   },
   "outputs": [
    {
     "output_type": "stream",
     "name": "stdout",
     "text": "\tTiempos de ocupacion de servidores:  23.7587915899135\n"
    }
   ],
   "source": [
    "print(\"\\tTiempos de ocupacion de servidores: \", resultados[\"busy_time\"][0])"
   ]
  },
  {
   "cell_type": "markdown",
   "metadata": {},
   "source": [
    "### ¿Cuánto tiempo estuvo cada servidor desocupado (idle)?"
   ]
  },
  {
   "cell_type": "code",
   "execution_count": 7,
   "metadata": {
    "tags": []
   },
   "outputs": [
    {
     "output_type": "stream",
     "name": "stdout",
     "text": "\tTiempo en el que el servidor estuvo libre:  36.2412084100865\n"
    }
   ],
   "source": [
    "print(\"\\tTiempo en el que el servidor estuvo libre: \",np.maximum(np.ones(gorilla.cpus)*60 - resultados[\"busy_time\"],0)[0])"
   ]
  },
  {
   "cell_type": "markdown",
   "metadata": {},
   "source": [
    "### Cuánto tiempo en total estuvieron las solicitudes en cola?"
   ]
  },
  {
   "cell_type": "code",
   "execution_count": 8,
   "metadata": {
    "scrolled": true,
    "tags": []
   },
   "outputs": [
    {
     "output_type": "stream",
     "name": "stdout",
     "text": "\tTiempo total de solicitudes en cola:  0.16087\n"
    }
   ],
   "source": [
    "print(\"\\tTiempo total de solicitudes en cola: \",np.round(sum(resultados[\"en_cola\"]),5))"
   ]
  },
  {
   "cell_type": "markdown",
   "metadata": {},
   "source": [
    "### En promedio ¿cuánto tiempo estuvo cada solicitud en cola?"
   ]
  },
  {
   "cell_type": "code",
   "execution_count": 9,
   "metadata": {
    "tags": []
   },
   "outputs": [
    {
     "output_type": "stream",
     "name": "stdout",
     "text": "\tTiempo promedio de solicitudes en cola: 0.0\n"
    }
   ],
   "source": [
    "print(\"\\tTiempo promedio de solicitudes en cola:\",np.round(np.mean(resultados[\"en_cola\"]),5))"
   ]
  },
  {
   "cell_type": "markdown",
   "metadata": {},
   "source": [
    "### En promedio, ¿cuántas solicitudes estuvieron en cola cada segundo?"
   ]
  },
  {
   "cell_type": "markdown",
   "metadata": {},
   "source": [
    "### ¿Cuál es el momento de la salida de la última solicitud?"
   ]
  },
  {
   "cell_type": "code",
   "execution_count": 10,
   "metadata": {
    "scrolled": true,
    "tags": []
   },
   "outputs": [
    {
     "output_type": "stream",
     "name": "stdout",
     "text": "\tTiempo de salida de la ultima solicitud atendida:  3600.00361 seg\n"
    }
   ],
   "source": [
    "print(\"\\tTiempo de salida de la ultima solicitud atendida: \",np.round(resultados[\"td\"][-1],5), \"seg\")"
   ]
  },
  {
   "cell_type": "markdown",
   "metadata": {},
   "source": [
    "## Task 3,4 - Gorilla Megacomputing, 6000 max solicitudes"
   ]
  },
  {
   "cell_type": "code",
   "execution_count": 11,
   "metadata": {
    "tags": []
   },
   "outputs": [],
   "source": [
    "gorilla = Server(potencia = 100, max_sol = 6000)\n",
    "resultados = gorilla.simulate()"
   ]
  },
  {
   "cell_type": "markdown",
   "metadata": {},
   "source": [
    "### ¿Cuántas solicitudes atendió cada servidor?\n",
    "\n",
    "\n",
    "\n"
   ]
  },
  {
   "cell_type": "code",
   "execution_count": 19,
   "metadata": {
    "tags": []
   },
   "outputs": [
    {
     "output_type": "stream",
     "name": "stdout",
     "text": "\tSolicitudes atendidas por servidor:  360694.0\n"
    }
   ],
   "source": [
    "print(\"\\tSolicitudes atendidas por servidor: \",resultados[\"num_sol\"][0])"
   ]
  },
  {
   "cell_type": "markdown",
   "metadata": {},
   "source": [
    "### ¿Cuánto tiempo estuvo cada servidor ocupado?\n",
    "\n",
    "Ya que en este caso se tuvo un único servidor, el resultado también es único"
   ]
  },
  {
   "cell_type": "code",
   "execution_count": 13,
   "metadata": {
    "tags": []
   },
   "outputs": [
    {
     "output_type": "stream",
     "name": "stdout",
     "text": "\tTiempos de ocupacion de servidores:  59.12837801739507\n"
    }
   ],
   "source": [
    "print(\"\\tTiempos de ocupacion de servidores: \", resultados[\"busy_time\"][0])"
   ]
  },
  {
   "cell_type": "markdown",
   "metadata": {},
   "source": [
    "### ¿Cuánto tiempo estuvo cada servidor desocupado (idle)?"
   ]
  },
  {
   "cell_type": "code",
   "execution_count": 14,
   "metadata": {
    "tags": []
   },
   "outputs": [
    {
     "output_type": "stream",
     "name": "stdout",
     "text": "\tTiempo en el que el servidor estuvo libre:  0.8716219826049283\n"
    }
   ],
   "source": [
    "print(\"\\tTiempo en el que el servidor estuvo libre: \",np.maximum(np.ones(gorilla.cpus)*60 - resultados[\"busy_time\"],0)[0])"
   ]
  },
  {
   "cell_type": "markdown",
   "metadata": {},
   "source": [
    "### Cuánto tiempo en total estuvieron las solicitudes en cola?"
   ]
  },
  {
   "cell_type": "code",
   "execution_count": 15,
   "metadata": {
    "scrolled": true,
    "tags": []
   },
   "outputs": [
    {
     "output_type": "stream",
     "name": "stdout",
     "text": "\tTiempo total de solicitudes en cola:  0.99286\n"
    }
   ],
   "source": [
    "print(\"\\tTiempo total de solicitudes en cola: \",np.round(sum(resultados[\"en_cola\"]),5))"
   ]
  },
  {
   "cell_type": "markdown",
   "metadata": {},
   "source": [
    "### En promedio ¿cuánto tiempo estuvo cada solicitud en cola?"
   ]
  },
  {
   "cell_type": "code",
   "execution_count": 16,
   "metadata": {
    "tags": []
   },
   "outputs": [
    {
     "output_type": "stream",
     "name": "stdout",
     "text": "\tTiempo promedio de solicitudes en cola: 0.0\n"
    }
   ],
   "source": [
    "print(\"\\tTiempo promedio de solicitudes en cola:\",np.round(np.mean(resultados[\"en_cola\"]),5))"
   ]
  },
  {
   "cell_type": "markdown",
   "metadata": {},
   "source": [
    "### En promedio, ¿cuántas solicitudes estuvieron en cola cada segundo?"
   ]
  },
  {
   "cell_type": "markdown",
   "metadata": {},
   "source": [
    "### ¿Cuál es el momento de la salida de la última solicitud?"
   ]
  },
  {
   "cell_type": "code",
   "execution_count": 17,
   "metadata": {
    "scrolled": true,
    "tags": []
   },
   "outputs": [
    {
     "output_type": "stream",
     "name": "stdout",
     "text": "\tTiempo de salida de la ultima solicitud atendida:  3600.01182 seg\n"
    }
   ],
   "source": [
    "print(\"\\tTiempo de salida de la ultima solicitud atendida: \",np.round(resultados[\"td\"][-1],5), \"seg\")"
   ]
  }
 ],
 "metadata": {
  "kernelspec": {
   "display_name": "Python 3",
   "language": "python",
   "name": "python3"
  },
  "language_info": {
   "codemirror_mode": {
    "name": "ipython",
    "version": 3
   },
   "file_extension": ".py",
   "mimetype": "text/x-python",
   "name": "python",
   "nbconvert_exporter": "python",
   "pygments_lexer": "ipython3",
   "version": "3.8.5-final"
  }
 },
 "nbformat": 4,
 "nbformat_minor": 2
}