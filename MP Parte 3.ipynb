{
 "cells": [
  {
   "cell_type": "markdown",
   "metadata": {},
   "source": [
    "# MiniProyecto Parte 3\n",
    "Ana Lucía Hernández - 17138\n",
    "María Fernanda López - 17160"
   ]
  },
  {
   "cell_type": "code",
   "execution_count": 69,
   "metadata": {},
   "outputs": [],
   "source": [
    "import numpy as np"
   ]
  },
  {
   "cell_type": "code",
   "execution_count": 91,
   "metadata": {},
   "outputs": [],
   "source": [
    "class Server():\n",
    "    def __init__(self, potencia, max_sol = 2400, cpus = 1):\n",
    "        # potencia es la cantidad de solicitudes por segundo que puede tomar \n",
    "        # max_sol es la cantidad máxima de solicitudes que se recibirán * por minuto * (lambda_max)\n",
    "        # cpus es la cantidad de servidores que tiene el sistema \n",
    "        self.potencia = potencia\n",
    "        self.lambda_max = max_sol  # lambda se toma como solicitudes/min (si no se tarda mucho)\n",
    "        self.cpus = cpus\n",
    "    \n",
    "    def next_ts(self, t): # los eventos serán solamente procesos de poisson homogeneos, así que se programa solo para eso \n",
    "        return t - (np.log(np.random.uniform())/self.lambda_max)\n",
    "\n",
    "    def get_exponential(self, lamda):\n",
    "        return -(1 / lamda)*np.log(np.random.uniform())\n",
    "\n",
    "    def simulate(self):\n",
    "        # se asumirá que t0 = 0 y T = t0 + 60min \n",
    "        t = 0 \n",
    "        n = 0 # estado del sistema, numero de solicitudes en el sistema al tiempo t \n",
    "        T = 60\n",
    "\n",
    "        # contadores\n",
    "        Na = 0 # llegadas \n",
    "        Nd = 0 # salidas\n",
    "\n",
    "        A = [] # tiempos de llegada de la i-esima solicitud, ids son indices\n",
    "        D = [] # tiempos de salida de la i-esima solicitud, ids son indices\n",
    "        NT = [] # Tiempos de cada cliente en espera\n",
    "\n",
    "        # eventos\n",
    "        ta = self.next_ts(t) # tiempo de la proxima llegada\n",
    "        td = np.zeros(self.cpus) + np.infty # set de tiempos de salida de cada servidor a infty, hay un td por cada server disponible\n",
    "        busy_time = np.zeros(self.cpus) # tiempo que cada server estuvo ocupado\n",
    "        served_by = [] # se guardan cuales solicitudes fueron atendidas por cuales server\n",
    "        servers = np.zeros(self.cpus) # para llevar registro de quien esta ocupado y quien no\n",
    "\n",
    "        while t < T: # el tiempo en el que estamos aún no excede el tiempo de cierre\n",
    "            # CASO 1 \n",
    "            # si el proximo tiempo de llegada es antes del proximo tiempo de salida, se encola\n",
    "            if ta < min(td):\n",
    "                t = ta # nos posicionamos en el próximo tiempo de llegada\n",
    "                Na += 1 # Contamos una llegada mas\n",
    "                ta = self.next_ts(t) # calculamos el siguiente tiempo de llegada\n",
    "                A.append(t) # guardamos el tiempo de la Na-esima llegada\n",
    "                if n < self.cpus: # si hay menos clientes dentro que servidores, se le asigna uno que esté disponible\n",
    "                    for i in range(self.cpus):\n",
    "                        if servers[i] == 0: # Si el servidor esta disponible\n",
    "                            NT = np.append(NT,t - A[len(A)-1])\n",
    "                            served_by.append(i) # se agrega el server que atendio el # de solicitud\n",
    "                            td[i] = t + self.get_exponential(1/(self.potencia*60)) # calculamos su tiempo de salida y se lo asignamos a un servidor (segundos por solicitud)\n",
    "                            busy_time[i] += td[i]-t # Calculamos el tiempo que va a estar en el servidor\n",
    "                            servers[i] = 1 # seteamos el server como ocupado \n",
    "                            break;\n",
    "                n += 1 # Contamos al nuevo cliente en el sistema\n",
    "            \n",
    "            # CASO 2\n",
    "            # si el proximo tiempo de llegada es después del próximo tiempo de salida, se atiende ya que\n",
    "            # se tiene la disponibilidad\n",
    "            else:\n",
    "                #if np.infty not in td else list(td).index(np.infty)\n",
    "                ti = np.argmin(td) # servidor que terminará más próximamente\n",
    "                t = td[ti] # avanzamos el tiempo al tiempo en el que termina\n",
    "                D.append(t)\n",
    "                if n <= self.cpus: # Si hay menos o igual clientes que servidores\n",
    "                    servers[ti] = 0 # liberamos el server\n",
    "                    td[ti] = np.infty # seteamos el td a infty para indicar que aun no tiene otra solicitud\n",
    "                else: # Si todavia hay mas clientes esperando\n",
    "\n",
    "                    served_by.append(ti) # se agrega el server que atendio el # de solicitud\n",
    "                    NT = np.append(NT,t - A[len(A)-1])\n",
    "                    td[ti] = t + self.get_exponential(1/(self.potencia*60)) # Calculamos el tiempo de salida\n",
    "                    busy_time[ti] += td[ti]-t # Calculamos el tiempo que va a estar en el servidor\n",
    "                    servers[i] = 1 # seteamos el server como ocupado \n",
    "                n -= 1 # Descontamos al cliente atendido del sistema\n",
    "        # se calcula cuantas solicitudes atendio cada servidor \n",
    "        num_sol = np.zeros(self.cpus)\n",
    "        for i in range(len(served_by)):\n",
    "            num_sol[served_by[i]] += 1\n",
    "\n",
    "        return { \n",
    "            \"en_cola\": NT, \"num_sol\": num_sol, \"td\": td, \"A\": A, \"D\": D, \"busy_time\": busy_time\n",
    "        }"
   ]
  },
  {
   "cell_type": "markdown",
   "metadata": {},
   "source": [
    "## Task 1 - Gorilla Megacomputing, 2400 max solicitudes"
   ]
  },
  {
   "cell_type": "code",
   "execution_count": 92,
   "metadata": {
    "tags": []
   },
   "outputs": [],
   "source": [
    "gorilla = Server(potencia = 100)\n",
    "resultados = gorilla.simulate()"
   ]
  },
  {
   "cell_type": "code",
   "execution_count": 93,
   "metadata": {
    "tags": []
   },
   "outputs": [
    {
     "output_type": "stream",
     "name": "stdout",
     "text": "1. ¿Cuántas solicitudes atendió cada servidor?\n\tSolicitudes atendidas por servidor:  144216.0\n\n2. ¿Cuánto tiempo estuvo cada servidor ocupado?\n\tTiempos de ocupacion de servidores:  24.042495589453324\n\n3. ¿Cuánto tiempo estuvo cada servidor desocupado (idle)?\n\tTiempo en el que el servidor estuvo libre:  35.957504410546676\n\n4. Cuánto tiempo en total estuvieron las solicitudes en cola?\n\tTiempo total de solicitudes en cola:  9.65594\n\n5. En promedio ¿cuánto tiempo estuvo cada solicitud en cola?\n\tTiempo promedio de solicitudes en cola: 7e-05\n\n6. En promedio, ¿cuántas solicitudes estuvieron en cola cada segundo?\n\tSolicitudes promedio en cola por segundo: 30561.53495\n\n7. ¿Cuál es el momento de la salida de la última solicitud?\n\tTiempo de salida de la ultima solicitud atendida:  60.00058 min\n"
    }
   ],
   "source": [
    "print(\"1. ¿Cuántas solicitudes atendió cada servidor?\")\n",
    "print(\"\\tSolicitudes atendidas por servidor: \",resultados[\"num_sol\"][0])\n",
    "print(\"\\n2. ¿Cuánto tiempo estuvo cada servidor ocupado?\")\n",
    "print(\"\\tTiempos de ocupacion de servidores: \", resultados[\"busy_time\"][0])\n",
    "print(\"\\n3. ¿Cuánto tiempo estuvo cada servidor desocupado (idle)?\")\n",
    "print(\"\\tTiempo en el que el servidor estuvo libre: \",np.maximum(np.ones(gorilla.cpus)*60 - resultados[\"busy_time\"],0)[0])\n",
    "print(\"\\n4. Cuánto tiempo en total estuvieron las solicitudes en cola?\")\n",
    "print(\"\\tTiempo total de solicitudes en cola: \",np.round(sum(resultados[\"en_cola\"]),5))\n",
    "print(\"\\n5. En promedio ¿cuánto tiempo estuvo cada solicitud en cola?\")\n",
    "print(\"\\tTiempo promedio de solicitudes en cola:\",np.round(np.mean(resultados[\"en_cola\"]),5))\n",
    "print(\"\\n6. En promedio, ¿cuántas solicitudes estuvieron en cola cada segundo?\")\n",
    "sol_psec = [ 1/num if num != 0 else 0 for num in resultados[\"en_cola\"] ]\n",
    "print(\"\\tSolicitudes promedio en cola por segundo:\",np.round(np.mean(sol_psec),5))\n",
    "print(\"\\n7. ¿Cuál es el momento de la salida de la última solicitud?\")\n",
    "print(\"\\tTiempo de salida de la ultima solicitud atendida: \",np.round(resultados[\"td\"][-1],5), \"min\") "
   ]
  },
  {
   "source": [
    "## Task 1 - Ants Computing, 2400 max solicitudes"
   ],
   "cell_type": "markdown",
   "metadata": {}
  },
  {
   "cell_type": "code",
   "execution_count": 76,
   "metadata": {},
   "outputs": [],
   "source": [
    "ant = Server(potencia=10, cpus = 10)\n",
    "resultados_ac = ant.simulate()"
   ]
  },
  {
   "cell_type": "code",
   "execution_count": 81,
   "metadata": {
    "tags": []
   },
   "outputs": [
    {
     "output_type": "stream",
     "name": "stdout",
     "text": "1. ¿Cuántas solicitudes atendió cada servidor?\n\tSolicitudes atendidas por servidor:  \n\t\tServidor 0: 28802.0\n\t\tServidor 1: 26640.0\n\t\tServidor 2: 23670.0\n\t\tServidor 3: 20428.0\n\t\tServidor 4: 16311.0\n\t\tServidor 5: 11928.0\n\t\tServidor 6: 8007.0\n\t\tServidor 7: 4849.0\n\t\tServidor 8: 2581.0\n\t\tServidor 9: 1267.0\n\n2. ¿Cuánto tiempo estuvo cada servidor ocupado?\n\tTiempos de ocupacion de servidores:  \n\t\tServidor 0: 48.11639\n\t\tServidor 1: 44.45916\n\t\tServidor 2: 39.74967\n\t\tServidor 3: 33.98147\n\t\tServidor 4: 27.17337\n\t\tServidor 5: 20.19584\n\t\tServidor 6: 13.39329\n\t\tServidor 7: 7.98213\n\t\tServidor 8: 4.29817\n\t\tServidor 9: 2.15083\n\n3. ¿Cuánto tiempo estuvo cada servidor desocupado (idle)?\n\tTiempo en el que el servidor estuvo libre:  \n\t\tServidor 0: 11.883605446353023\n\t\tServidor 1: 15.540842772885696\n\t\tServidor 2: 20.25032726849431\n\t\tServidor 3: 26.01853141299094\n\t\tServidor 4: 32.8266273397346\n\t\tServidor 5: 39.8041573559106\n\t\tServidor 6: 46.606714525128545\n\t\tServidor 7: 52.01786648371677\n\t\tServidor 8: 55.701830744083516\n\t\tServidor 9: 57.84917337839907\n\n4. Cuánto tiempo en total estuvieron las solicitudes en cola?\n\tTiempo total de solicitudes en cola:  0.20963\n\n5. En promedio ¿cuánto tiempo estuvo cada solicitud en cola?\n\tTiempo promedio de solicitudes en cola: 0.0\n\n6. En promedio, ¿cuántas solicitudes estuvieron en cola cada segundo?\n\tSolicitudes promedio en cola por segundo: 338.90573\n\n7. ¿Cuál es el momento de la salida de la última solicitud?\n\tTiempo de salida de la ultima solicitud atendida:  inf min\n"
    }
   ],
   "source": [
    "print(\"1. ¿Cuántas solicitudes atendió cada servidor?\")\n",
    "print(\"\\tSolicitudes atendidas por servidor: \", \"\".join([ \"\\n\\t\\tServidor \"+str(i)+\": \"+str(np.round(resultados_ac[\"num_sol\"][i], 5)) for i in range(len(resultados_ac[\"num_sol\"])) ]))\n",
    "print(\"\\n2. ¿Cuánto tiempo estuvo cada servidor ocupado?\")\n",
    "print(\"\\tTiempos de ocupacion de servidores: \", \"\".join([ \"\\n\\t\\tServidor \"+str(i)+\": \"+str(np.round(resultados_ac[\"busy_time\"][i], 5)) for i in range(len(resultados_ac[\"busy_time\"])) ]))\n",
    "print(\"\\n3. ¿Cuánto tiempo estuvo cada servidor desocupado (idle)?\")\n",
    "idle = np.maximum(np.ones(gorilla.cpus)*60 - resultados_ac[\"busy_time\"],0)\n",
    "print(\"\\tTiempo en el que el servidor estuvo libre: \", \"\".join([ \"\\n\\t\\tServidor \"+str(i)+\": \"+str(idle[i]) for i in range(len(idle)) ]))\n",
    "print(\"\\n4. Cuánto tiempo en total estuvieron las solicitudes en cola?\")\n",
    "print(\"\\tTiempo total de solicitudes en cola: \",np.round(sum(resultados_ac[\"en_cola\"]),5))\n",
    "print(\"\\n5. En promedio ¿cuánto tiempo estuvo cada solicitud en cola?\")\n",
    "print(\"\\tTiempo promedio de solicitudes en cola:\",np.round(np.mean(resultados_ac[\"en_cola\"]),5))\n",
    "print(\"\\n6. En promedio, ¿cuántas solicitudes estuvieron en cola cada segundo?\")\n",
    "sol_psec = [ 1/num if num != 0 else 0 for num in resultados_ac[\"en_cola\"] ]\n",
    "print(\"\\tSolicitudes promedio en cola por segundo:\",np.round(np.mean(sol_psec),5))\n",
    "print(\"\\n7. ¿Cuál es el momento de la salida de la última solicitud?\")\n",
    "print(\"\\tTiempo de salida de la ultima solicitud atendida: \",np.round(resultados_ac[\"td\"][-1],5), \"min\") "
   ]
  },
  {
   "cell_type": "markdown",
   "metadata": {},
   "source": [
    "## Task 2 - 2400 max solicitudes"
   ]
  },
  {
   "cell_type": "code",
   "execution_count": 113,
   "metadata": {},
   "outputs": [],
   "source": [
    "ant = Server(potencia=10, cpus = 12)\n",
    "resultados12 = ant.simulate()"
   ]
  },
  {
   "cell_type": "code",
   "execution_count": 114,
   "metadata": {
    "tags": []
   },
   "outputs": [
    {
     "output_type": "stream",
     "name": "stdout",
     "text": "\tTiempo total de solicitudes en cola con 12 cpus:  0.0222\n"
    }
   ],
   "source": [
    "print(\"\\tTiempo total de solicitudes en cola con 12 cpus: \",np.round(sum(resultados12[\"en_cola\"]),5))"
   ]
  },
  {
   "cell_type": "code",
   "execution_count": 115,
   "metadata": {},
   "outputs": [],
   "source": [
    "ant = Server(potencia=10, cpus = 15)\n",
    "resultados15 = ant.simulate()"
   ]
  },
  {
   "cell_type": "code",
   "execution_count": 116,
   "metadata": {
    "tags": []
   },
   "outputs": [
    {
     "output_type": "stream",
     "name": "stdout",
     "text": "\tTiempo total de solicitudes en cola con 15 cpus:  5e-05\n"
    }
   ],
   "source": [
    "print(\"\\tTiempo total de solicitudes en cola con 15 cpus: \",np.round(sum(resultados15[\"en_cola\"]),5))"
   ]
  },
  {
   "cell_type": "code",
   "execution_count": 117,
   "metadata": {},
   "outputs": [],
   "source": [
    "ant = Server(potencia=10, cpus = 16)\n",
    "resultados16 = ant.simulate()"
   ]
  },
  {
   "cell_type": "code",
   "execution_count": 118,
   "metadata": {
    "tags": []
   },
   "outputs": [
    {
     "output_type": "stream",
     "name": "stdout",
     "text": "\tTiempo total de solicitudes en cola con 16 cpus:  0.0\n"
    }
   ],
   "source": [
    "print(\"\\tTiempo total de solicitudes en cola con 16 cpus: \",np.round(sum(resultados16[\"en_cola\"]),5))"
   ]
  },
  {
   "cell_type": "markdown",
   "metadata": {},
   "source": [
    "Podemos observar en las simulaciones que a partir de 16 cpus ya contamos con un total de tiempo en cola de 0, lo que indica que ninguna solicitud esperó en cola. "
   ]
  },
  {
   "cell_type": "markdown",
   "metadata": {},
   "source": [
    "## Task 3 - Gorilla Megacomputing, 6000 max solicitudes"
   ]
  },
  {
   "cell_type": "code",
   "execution_count": 87,
   "metadata": {
    "tags": []
   },
   "outputs": [],
   "source": [
    "gorilla = Server(potencia = 100, max_sol = 6000)\n",
    "resultados_g2 = gorilla.simulate()"
   ]
  },
  {
   "cell_type": "code",
   "execution_count": 119,
   "metadata": {
    "tags": []
   },
   "outputs": [
    {
     "output_type": "stream",
     "name": "stdout",
     "text": "1. ¿Cuántas solicitudes atendió cada servidor?\n\tSolicitudes atendidas por servidor:  359189.0\n\n2. ¿Cuánto tiempo estuvo cada servidor ocupado?\n\tTiempos de ocupacion de servidores:  59.99868028495467\n\n3. ¿Cuánto tiempo estuvo cada servidor desocupado (idle)?\n\tTiempo en el que el servidor estuvo libre:  0.001319715045326575\n\n4. Cuánto tiempo en total estuvieron las solicitudes en cola?\n\tTiempo total de solicitudes en cola:  60.01529\n\n5. En promedio ¿cuánto tiempo estuvo cada solicitud en cola?\n\tTiempo promedio de solicitudes en cola: 0.00017\n\n6. En promedio, ¿cuántas solicitudes estuvieron en cola cada segundo?\n\tSolicitudes promedio en cola por segundo: 144917.93068\n\n7. ¿Cuál es el momento de la salida de la última solicitud?\n\tTiempo de salida de la ultima solicitud atendida:  60.00018 min\n"
    }
   ],
   "source": [
    "print(\"1. ¿Cuántas solicitudes atendió cada servidor?\")\n",
    "print(\"\\tSolicitudes atendidas por servidor: \",resultados_g2[\"num_sol\"][0])\n",
    "print(\"\\n2. ¿Cuánto tiempo estuvo cada servidor ocupado?\")\n",
    "print(\"\\tTiempos de ocupacion de servidores: \", resultados_g2[\"busy_time\"][0])\n",
    "print(\"\\n3. ¿Cuánto tiempo estuvo cada servidor desocupado (idle)?\")\n",
    "print(\"\\tTiempo en el que el servidor estuvo libre: \",np.maximum(np.ones(gorilla.cpus)*60 - resultados_g2[\"busy_time\"],0)[0])\n",
    "print(\"\\n4. Cuánto tiempo en total estuvieron las solicitudes en cola?\")\n",
    "print(\"\\tTiempo total de solicitudes en cola: \",np.round(sum(resultados_g2[\"en_cola\"]),5))\n",
    "print(\"\\n5. En promedio ¿cuánto tiempo estuvo cada solicitud en cola?\")\n",
    "print(\"\\tTiempo promedio de solicitudes en cola:\",np.round(np.mean(resultados_g2[\"en_cola\"]),5))\n",
    "print(\"\\n6. En promedio, ¿cuántas solicitudes estuvieron en cola cada segundo?\")\n",
    "sol_psec = [ 1/num if num != 0 else 0 for num in resultados_g2[\"en_cola\"] ]\n",
    "print(\"\\tSolicitudes promedio en cola por segundo:\",np.round(np.mean(sol_psec),5))\n",
    "print(\"\\n7. ¿Cuál es el momento de la salida de la última solicitud?\")\n",
    "print(\"\\tTiempo de salida de la ultima solicitud atendida: \",np.round(resultados_g2[\"td\"][-1],5), \"min\") "
   ]
  },
  {
   "cell_type": "markdown",
   "metadata": {},
   "source": [
    "## Task 3 - Ants Computing, 6000 max solicitudes"
   ]
  },
  {
   "cell_type": "code",
   "execution_count": 120,
   "metadata": {},
   "outputs": [],
   "source": [
    "ant = Server(potencia = 10, max_sol = 6000, cpus=10)\n",
    "ant6k = ant.simulate()"
   ]
  },
  {
   "cell_type": "code",
   "execution_count": 121,
   "metadata": {
    "tags": []
   },
   "outputs": [
    {
     "output_type": "stream",
     "name": "stdout",
     "text": "1. ¿Cuántas solicitudes atendió cada servidor?\n\tSolicitudes atendidas por servidor:  \n\t\tServidor 0: 36015.0\n\t\tServidor 1: 35992.0\n\t\tServidor 2: 35962.0\n\t\tServidor 3: 35875.0\n\t\tServidor 4: 35982.0\n\t\tServidor 5: 35844.0\n\t\tServidor 6: 36167.0\n\t\tServidor 7: 36026.0\n\t\tServidor 8: 35851.0\n\t\tServidor 9: 35790.0\n\n2. ¿Cuánto tiempo estuvo cada servidor ocupado?\n\tTiempos de ocupacion de servidores:  \n\t\tServidor 0: 59.9874\n\t\tServidor 1: 59.97895\n\t\tServidor 2: 59.97671\n\t\tServidor 3: 59.97361\n\t\tServidor 4: 59.97111\n\t\tServidor 5: 59.96372\n\t\tServidor 6: 59.95549\n\t\tServidor 7: 59.95351\n\t\tServidor 8: 59.93927\n\t\tServidor 9: 59.91503\n\n3. ¿Cuánto tiempo estuvo cada servidor desocupado (idle)?\n\tTiempo en el que el servidor estuvo libre:  \n\t\tServidor 0: 0.012601367809672581\n\t\tServidor 1: 0.02105190809953683\n\t\tServidor 2: 0.02329219707445418\n\t\tServidor 3: 0.026394131454701153\n\t\tServidor 4: 0.028887800123818863\n\t\tServidor 5: 0.03628198297762708\n\t\tServidor 6: 0.044510852531509215\n\t\tServidor 7: 0.04648573764988839\n\t\tServidor 8: 0.060726369435315064\n\t\tServidor 9: 0.08496810263429921\n\n4. Cuánto tiempo en total estuvieron las solicitudes en cola?\n\tTiempo total de solicitudes en cola:  59.64504\n\n5. En promedio ¿cuánto tiempo estuvo cada solicitud en cola?\n\tTiempo promedio de solicitudes en cola: 0.00017\n\n6. En promedio, ¿cuántas solicitudes estuvieron en cola cada segundo?\n\tSolicitudes promedio en cola por segundo: 69189.57934\n\n7. ¿Cuál es el momento de la salida de la última solicitud?\n\tTiempo de salida de la ultima solicitud atendida:  60.00196 min\n"
    }
   ],
   "source": [
    "print(\"1. ¿Cuántas solicitudes atendió cada servidor?\")\n",
    "print(\"\\tSolicitudes atendidas por servidor: \", \"\".join([ \"\\n\\t\\tServidor \"+str(i)+\": \"+str(np.round(ant6k[\"num_sol\"][i], 5)) for i in range(len(ant6k[\"num_sol\"])) ]))\n",
    "print(\"\\n2. ¿Cuánto tiempo estuvo cada servidor ocupado?\")\n",
    "print(\"\\tTiempos de ocupacion de servidores: \", \"\".join([ \"\\n\\t\\tServidor \"+str(i)+\": \"+str(np.round(ant6k[\"busy_time\"][i], 5)) for i in range(len(ant6k[\"busy_time\"])) ]))\n",
    "print(\"\\n3. ¿Cuánto tiempo estuvo cada servidor desocupado (idle)?\")\n",
    "idle = np.maximum(np.ones(gorilla.cpus)*60 - ant6k[\"busy_time\"],0)\n",
    "print(\"\\tTiempo en el que el servidor estuvo libre: \", \"\".join([ \"\\n\\t\\tServidor \"+str(i)+\": \"+str(idle[i]) for i in range(len(idle)) ]))\n",
    "print(\"\\n4. Cuánto tiempo en total estuvieron las solicitudes en cola?\")\n",
    "print(\"\\tTiempo total de solicitudes en cola: \",np.round(sum(ant6k[\"en_cola\"]),5))\n",
    "print(\"\\n5. En promedio ¿cuánto tiempo estuvo cada solicitud en cola?\")\n",
    "print(\"\\tTiempo promedio de solicitudes en cola:\",np.round(np.mean(ant6k[\"en_cola\"]),5))\n",
    "print(\"\\n6. En promedio, ¿cuántas solicitudes estuvieron en cola cada segundo?\")\n",
    "sol_psec = [ 1/num if num != 0 else 0 for num in ant6k[\"en_cola\"] ]\n",
    "print(\"\\tSolicitudes promedio en cola por segundo:\",np.round(np.mean(sol_psec),5))\n",
    "print(\"\\n7. ¿Cuál es el momento de la salida de la última solicitud?\")\n",
    "print(\"\\tTiempo de salida de la ultima solicitud atendida: \",np.round(ant6k[\"td\"][-1],5), \"min\") "
   ]
  },
  {
   "source": [
    "## Task 4 - 6000 max solicitudes"
   ],
   "cell_type": "markdown",
   "metadata": {}
  },
  {
   "cell_type": "code",
   "execution_count": 130,
   "metadata": {},
   "outputs": [],
   "source": [
    "ant = Server(potencia=10, cpus = 16, max_sol = 6000)\n",
    "resultados16 = ant.simulate()"
   ]
  },
  {
   "cell_type": "code",
   "execution_count": 131,
   "metadata": {
    "tags": []
   },
   "outputs": [
    {
     "output_type": "stream",
     "name": "stdout",
     "text": "\tTiempo total de solicitudes en cola con 16 cpus:  2.16651\n"
    }
   ],
   "source": [
    "print(\"\\tTiempo total de solicitudes en cola con 16 cpus: \",np.round(sum(resultados16[\"en_cola\"]),5))"
   ]
  },
  {
   "cell_type": "code",
   "execution_count": 144,
   "metadata": {},
   "outputs": [],
   "source": [
    "ant = Server(potencia=10, cpus = 27, max_sol = 6000)\n",
    "resultados27 = ant.simulate()"
   ]
  },
  {
   "cell_type": "code",
   "execution_count": 145,
   "metadata": {
    "tags": []
   },
   "outputs": [
    {
     "output_type": "stream",
     "name": "stdout",
     "text": "\tTiempo total de solicitudes en cola con 27 cpus:  0.0001\n"
    }
   ],
   "source": [
    "print(\"\\tTiempo total de solicitudes en cola con 27 cpus: \",np.round(sum(resultados27[\"en_cola\"]),5))"
   ]
  },
  {
   "cell_type": "code",
   "execution_count": 140,
   "metadata": {},
   "outputs": [],
   "source": [
    "ant = Server(potencia=10, cpus = 28, max_sol = 6000)\n",
    "resultados28 = ant.simulate()"
   ]
  },
  {
   "cell_type": "code",
   "execution_count": 141,
   "metadata": {
    "tags": []
   },
   "outputs": [
    {
     "output_type": "stream",
     "name": "stdout",
     "text": "\tTiempo total de solicitudes en cola con 28 cpus:  0.0\n"
    }
   ],
   "source": [
    "print(\"\\tTiempo total de solicitudes en cola con 28 cpus: \",np.round(sum(resultados28[\"en_cola\"]),5))"
   ]
  },
  {
   "cell_type": "markdown",
   "metadata": {},
   "source": [
    "Podemos observar que con 6000 solicitudes como máximo, el numero de cpus tendría que aumentar a un mínimo de 28 para que ningún proceso se quede en cola esperando."
   ]
  },
  {
   "cell_type": "markdown",
   "metadata": {},
   "source": [
    "## Task 5"
   ]
  },
  {
   "cell_type": "markdown",
   "metadata": {},
   "source": [
    "Se puede observar que para 2400 solicitudes que son las que según el departamento serian las maximas a las que se puede llegar, Ants Computing logra atender una mayor cantidad de solicitudes dentro de la hora en que se simuló, además que se mantienen más tiempo ocupados - en promedio - lo que indica que se toma más provecho de los recursos; además que tienen menores tiempos de espera. Por tanto, la recomendación es que alquilen los 10 servidores. "
   ]
  },
  {
   "cell_type": "code",
   "execution_count": null,
   "metadata": {},
   "outputs": [],
   "source": []
  }
 ],
 "metadata": {
  "kernelspec": {
   "display_name": "Python 3",
   "language": "python",
   "name": "python3"
  },
  "language_info": {
   "codemirror_mode": {
    "name": "ipython",
    "version": 3
   },
   "file_extension": ".py",
   "mimetype": "text/x-python",
   "name": "python",
   "nbconvert_exporter": "python",
   "pygments_lexer": "ipython3",
   "version": "3.8.5-final"
  }
 },
 "nbformat": 4,
 "nbformat_minor": 2
}